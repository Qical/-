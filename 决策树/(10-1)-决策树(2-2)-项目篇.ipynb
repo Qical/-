{
 "cells": [
  {
   "cell_type": "markdown",
   "metadata": {},
   "source": [
    "### 数据准备"
   ]
  },
  {
   "cell_type": "code",
   "execution_count": 11,
   "metadata": {},
   "outputs": [
    {
     "name": "stdout",
     "output_type": "stream",
     "text": [
      "<class 'pandas.core.frame.DataFrame'>\n",
      "RangeIndex: 891 entries, 0 to 890\n",
      "Data columns (total 12 columns):\n",
      "PassengerId    891 non-null int64\n",
      "Survived       891 non-null int64\n",
      "Pclass         891 non-null int64\n",
      "Name           891 non-null object\n",
      "Sex            891 non-null object\n",
      "Age            714 non-null float64\n",
      "SibSp          891 non-null int64\n",
      "Parch          891 non-null int64\n",
      "Ticket         891 non-null object\n",
      "Fare           891 non-null float64\n",
      "Cabin          204 non-null object\n",
      "Embarked       889 non-null object\n",
      "dtypes: float64(2), int64(5), object(5)\n",
      "memory usage: 83.7+ KB\n",
      "None\n",
      "****************************************\n",
      "       PassengerId    Survived      Pclass         Age       SibSp  \\\n",
      "count   891.000000  891.000000  891.000000  714.000000  891.000000   \n",
      "mean    446.000000    0.383838    2.308642   29.699118    0.523008   \n",
      "std     257.353842    0.486592    0.836071   14.526497    1.102743   \n",
      "min       1.000000    0.000000    1.000000    0.420000    0.000000   \n",
      "25%     223.500000    0.000000    2.000000   20.125000    0.000000   \n",
      "50%     446.000000    0.000000    3.000000   28.000000    0.000000   \n",
      "75%     668.500000    1.000000    3.000000   38.000000    1.000000   \n",
      "max     891.000000    1.000000    3.000000   80.000000    8.000000   \n",
      "\n",
      "            Parch        Fare  \n",
      "count  891.000000  891.000000  \n",
      "mean     0.381594   32.204208  \n",
      "std      0.806057   49.693429  \n",
      "min      0.000000    0.000000  \n",
      "25%      0.000000    7.910400  \n",
      "50%      0.000000   14.454200  \n",
      "75%      0.000000   31.000000  \n",
      "max      6.000000  512.329200  \n",
      "****************************************\n",
      "                                                   Name   Sex  Ticket Cabin  \\\n",
      "count                                               891   891     891   204   \n",
      "unique                                              891     2     681   147   \n",
      "top     Goldsmith, Master. Frank John William \"Frankie\"  male  347082    G6   \n",
      "freq                                                  1   577       7     4   \n",
      "\n",
      "       Embarked  \n",
      "count       889  \n",
      "unique        3  \n",
      "top           S  \n",
      "freq        644  \n",
      "****************************************\n"
     ]
    }
   ],
   "source": [
    "import pandas as pd\n",
    "# 数据加载\n",
    "train_data = pd.read_csv(\"./data_file/titanic/train.csv\")\n",
    "test_data = pd.read_csv(\"./data_file/titanic/test.csv\")\n",
    "# 进行基本信息统计和筛选\n",
    "print(train_data.info())\n",
    "print(\"****\"*10)\n",
    "print(train_data.describe())\n",
    "print(\"****\"*10)\n",
    "print(train_data.describe(include=['O']))\n",
    "print(\"****\"*10)"
   ]
  },
  {
   "cell_type": "markdown",
   "metadata": {},
   "source": [
    "### 数据清洗\n",
    "\n",
    "> Age，Fare（船票价格），Cabin这三个字段缺失"
   ]
  },
  {
   "cell_type": "code",
   "execution_count": 14,
   "metadata": {},
   "outputs": [],
   "source": [
    "# 使用平均值来填充年龄\n",
    "train_data['Age'].fillna(train_data['Age'].mean(),inplace=True)\n",
    "test_data[\"Age\"].fillna(test_data[\"Age\"].mean(),inplace =True)\n",
    "\n",
    "# 使用票价的平均值填充nan值\n",
    "train_data['Fare'].fillna(train_data['Fare'].mean(),inplace = True)\n",
    "test_data['Fare'].fillna(test_data['Fare'].mean(),inplace = True)"
   ]
  },
  {
   "cell_type": "code",
   "execution_count": 18,
   "metadata": {},
   "outputs": [
    {
     "data": {
      "text/plain": [
       "S    644\n",
       "C    168\n",
       "Q     77\n",
       "Name: Embarked, dtype: int64"
      ]
     },
     "execution_count": 18,
     "metadata": {},
     "output_type": "execute_result"
    }
   ],
   "source": [
    "# 对Embarked字段的取值观察方法如下：\n",
    "train_data[\"Embarked\"].value_counts()"
   ]
  },
  {
   "cell_type": "code",
   "execution_count": 20,
   "metadata": {},
   "outputs": [],
   "source": [
    "# 由于大部分都是S，我们就用s来填充Embarked\n",
    "train_data[\"Embarked\"].fillna(\"S\",inplace=True)\n",
    "test_data['Embarked'].fillna(\"S\",inplace = True)"
   ]
  },
  {
   "cell_type": "markdown",
   "metadata": {},
   "source": [
    "### 特征选择"
   ]
  },
  {
   "cell_type": "code",
   "execution_count": 25,
   "metadata": {},
   "outputs": [],
   "source": [
    "#  特征选择\n",
    "features = [\"Pclass\",\"Sex\",\"Age\",\"SibSp\",\"Parch\",\"Fare\",\"Embarked\"]\n",
    "train_features = train_data[features]\n",
    "train_labels =train_data['Survived']\n",
    "test_features = test_data[features]"
   ]
  },
  {
   "cell_type": "code",
   "execution_count": 26,
   "metadata": {},
   "outputs": [
    {
     "name": "stdout",
     "output_type": "stream",
     "text": [
      "['Age', 'Embarked=C', 'Embarked=Q', 'Embarked=S', 'Fare', 'Parch', 'Pclass', 'Sex=female', 'Sex=male', 'SibSp']\n"
     ]
    }
   ],
   "source": [
    "#  对于有固定的类的数据比如SEX，我们可以使用sklearn特征选择中的DictVectorizer类，\n",
    "# 用它将可以处理符号化的对象，将符号转化成数字0/1进行表示\n",
    "from sklearn.feature_extraction import DictVectorizer\n",
    "dvec = DictVectorizer(sparse = False)\n",
    "\n",
    "train_features = dvec.fit_transform(train_features.to_dict(orient = 'record'))\n",
    "print(dvec.feature_names_)"
   ]
  },
  {
   "cell_type": "code",
   "execution_count": 27,
   "metadata": {},
   "outputs": [
    {
     "name": "stdout",
     "output_type": "stream",
     "text": [
      "score的准确率0.9820\n"
     ]
    }
   ],
   "source": [
    "# 使用ID3算法\n",
    "from sklearn.tree import DecisionTreeClassifier\n",
    "clf = DecisionTreeClassifier(criterion='entropy')\n",
    "clf.fit(train_features,train_labels)\n",
    "\n",
    "test_features = dvec.transform(test_features.to_dict(orient ='record'))\n",
    "# 决策树预测(test.csv中没有幸存者的信息)\n",
    "pred_labels = clf.predict(test_features)\n",
    "\n",
    "#  只能使用训练集中的数据进行模型评估，使用决策树自带的score函数进行验证\n",
    "acc_decision_tree = round(clf.score(train_features,train_labels),6)\n",
    "print(\"score的准确率%.4lf\"%acc_decision_tree)"
   ]
  },
  {
   "cell_type": "markdown",
   "metadata": {},
   "source": [
    "### K折交叉验证\n",
    "\n",
    "> 交叉验证是一种常见的验证分类准确率的方法，原理是拿出大部分样本进行训练，少量的用于分类器的验证。K 折交叉验证，就是做 K 次交叉验证，每次选取 K 分之一的数据作为验证，其余作为训练。轮流 K 次，取平均值\n",
    "\n",
    "> 在 sklearn 的 model_selection 模型选择中提供了 cross_val_score 函数。\n",
    "cross_val_score 函数中的参数 cv 代表对原始数据划分成多少份，也就是我们的 K 值，一\n",
    "般建议 K 值取 10，因此我们可以设置 CV=10"
   ]
  },
  {
   "cell_type": "code",
   "execution_count": 28,
   "metadata": {},
   "outputs": [
    {
     "name": "stdout",
     "output_type": "stream",
     "text": [
      "cross_val_score准确率：0.7802\n"
     ]
    }
   ],
   "source": [
    "import numpy as np\n",
    "from sklearn.model_selection import cross_val_score\n",
    "\n",
    "# 使用K折交叉验证，统计决策树准确率\n",
    "print(\"cross_val_score准确率：%.4lf\"%np.mean(cross_val_score(clf,\n",
    "                                                         train_features,\n",
    "                                                         train_labels,\n",
    "                                                        cv =10)))"
   ]
  },
  {
   "cell_type": "markdown",
   "metadata": {},
   "source": [
    "### 模型使用技巧总结"
   ]
  },
  {
   "cell_type": "markdown",
   "metadata": {},
   "source": [
    "> - 特征选择是分类模型好坏我的关键，通常情况下，特征值不都是数值类型，可以使用DictVectorizer类进行转化\n",
    "- 模型准确率需要考虑是否有测试集的实际结果作为对比，当测试集没有真实结果可以对比时，需要使用K折交叉验证cross_val_score"
   ]
  }
 ],
 "metadata": {
  "kernelspec": {
   "display_name": "Python 3",
   "language": "python",
   "name": "python3"
  },
  "language_info": {
   "codemirror_mode": {
    "name": "ipython",
    "version": 3
   },
   "file_extension": ".py",
   "mimetype": "text/x-python",
   "name": "python",
   "nbconvert_exporter": "python",
   "pygments_lexer": "ipython3",
   "version": "3.7.4"
  },
  "toc": {
   "base_numbering": 1,
   "nav_menu": {},
   "number_sections": true,
   "sideBar": true,
   "skip_h1_title": false,
   "title_cell": "Table of Contents",
   "title_sidebar": "Contents",
   "toc_cell": false,
   "toc_position": {},
   "toc_section_display": true,
   "toc_window_display": false
  }
 },
 "nbformat": 4,
 "nbformat_minor": 2
}
