{
 "cells": [
  {
   "cell_type": "markdown",
   "metadata": {},
   "source": [
    "# 过滤法，嵌入法，包装法，降维算法"
   ]
  },
  {
   "cell_type": "code",
   "execution_count": 5,
   "metadata": {},
   "outputs": [
    {
     "data": {
      "text/html": [
       "<div>\n",
       "<style scoped>\n",
       "    .dataframe tbody tr th:only-of-type {\n",
       "        vertical-align: middle;\n",
       "    }\n",
       "\n",
       "    .dataframe tbody tr th {\n",
       "        vertical-align: top;\n",
       "    }\n",
       "\n",
       "    .dataframe thead th {\n",
       "        text-align: right;\n",
       "    }\n",
       "</style>\n",
       "<table border=\"1\" class=\"dataframe\">\n",
       "  <thead>\n",
       "    <tr style=\"text-align: right;\">\n",
       "      <th></th>\n",
       "      <th>label</th>\n",
       "      <th>pixel0</th>\n",
       "      <th>pixel1</th>\n",
       "      <th>pixel2</th>\n",
       "      <th>pixel3</th>\n",
       "      <th>pixel4</th>\n",
       "      <th>pixel5</th>\n",
       "      <th>pixel6</th>\n",
       "      <th>pixel7</th>\n",
       "      <th>pixel8</th>\n",
       "      <th>...</th>\n",
       "      <th>pixel774</th>\n",
       "      <th>pixel775</th>\n",
       "      <th>pixel776</th>\n",
       "      <th>pixel777</th>\n",
       "      <th>pixel778</th>\n",
       "      <th>pixel779</th>\n",
       "      <th>pixel780</th>\n",
       "      <th>pixel781</th>\n",
       "      <th>pixel782</th>\n",
       "      <th>pixel783</th>\n",
       "    </tr>\n",
       "  </thead>\n",
       "  <tbody>\n",
       "    <tr>\n",
       "      <th>0</th>\n",
       "      <td>1</td>\n",
       "      <td>0</td>\n",
       "      <td>0</td>\n",
       "      <td>0</td>\n",
       "      <td>0</td>\n",
       "      <td>0</td>\n",
       "      <td>0</td>\n",
       "      <td>0</td>\n",
       "      <td>0</td>\n",
       "      <td>0</td>\n",
       "      <td>...</td>\n",
       "      <td>0</td>\n",
       "      <td>0</td>\n",
       "      <td>0</td>\n",
       "      <td>0</td>\n",
       "      <td>0</td>\n",
       "      <td>0</td>\n",
       "      <td>0</td>\n",
       "      <td>0</td>\n",
       "      <td>0</td>\n",
       "      <td>0</td>\n",
       "    </tr>\n",
       "    <tr>\n",
       "      <th>1</th>\n",
       "      <td>0</td>\n",
       "      <td>0</td>\n",
       "      <td>0</td>\n",
       "      <td>0</td>\n",
       "      <td>0</td>\n",
       "      <td>0</td>\n",
       "      <td>0</td>\n",
       "      <td>0</td>\n",
       "      <td>0</td>\n",
       "      <td>0</td>\n",
       "      <td>...</td>\n",
       "      <td>0</td>\n",
       "      <td>0</td>\n",
       "      <td>0</td>\n",
       "      <td>0</td>\n",
       "      <td>0</td>\n",
       "      <td>0</td>\n",
       "      <td>0</td>\n",
       "      <td>0</td>\n",
       "      <td>0</td>\n",
       "      <td>0</td>\n",
       "    </tr>\n",
       "    <tr>\n",
       "      <th>2</th>\n",
       "      <td>1</td>\n",
       "      <td>0</td>\n",
       "      <td>0</td>\n",
       "      <td>0</td>\n",
       "      <td>0</td>\n",
       "      <td>0</td>\n",
       "      <td>0</td>\n",
       "      <td>0</td>\n",
       "      <td>0</td>\n",
       "      <td>0</td>\n",
       "      <td>...</td>\n",
       "      <td>0</td>\n",
       "      <td>0</td>\n",
       "      <td>0</td>\n",
       "      <td>0</td>\n",
       "      <td>0</td>\n",
       "      <td>0</td>\n",
       "      <td>0</td>\n",
       "      <td>0</td>\n",
       "      <td>0</td>\n",
       "      <td>0</td>\n",
       "    </tr>\n",
       "    <tr>\n",
       "      <th>3</th>\n",
       "      <td>4</td>\n",
       "      <td>0</td>\n",
       "      <td>0</td>\n",
       "      <td>0</td>\n",
       "      <td>0</td>\n",
       "      <td>0</td>\n",
       "      <td>0</td>\n",
       "      <td>0</td>\n",
       "      <td>0</td>\n",
       "      <td>0</td>\n",
       "      <td>...</td>\n",
       "      <td>0</td>\n",
       "      <td>0</td>\n",
       "      <td>0</td>\n",
       "      <td>0</td>\n",
       "      <td>0</td>\n",
       "      <td>0</td>\n",
       "      <td>0</td>\n",
       "      <td>0</td>\n",
       "      <td>0</td>\n",
       "      <td>0</td>\n",
       "    </tr>\n",
       "    <tr>\n",
       "      <th>4</th>\n",
       "      <td>0</td>\n",
       "      <td>0</td>\n",
       "      <td>0</td>\n",
       "      <td>0</td>\n",
       "      <td>0</td>\n",
       "      <td>0</td>\n",
       "      <td>0</td>\n",
       "      <td>0</td>\n",
       "      <td>0</td>\n",
       "      <td>0</td>\n",
       "      <td>...</td>\n",
       "      <td>0</td>\n",
       "      <td>0</td>\n",
       "      <td>0</td>\n",
       "      <td>0</td>\n",
       "      <td>0</td>\n",
       "      <td>0</td>\n",
       "      <td>0</td>\n",
       "      <td>0</td>\n",
       "      <td>0</td>\n",
       "      <td>0</td>\n",
       "    </tr>\n",
       "  </tbody>\n",
       "</table>\n",
       "<p>5 rows × 785 columns</p>\n",
       "</div>"
      ],
      "text/plain": [
       "   label  pixel0  pixel1  pixel2  pixel3  pixel4  pixel5  pixel6  pixel7  \\\n",
       "0      1       0       0       0       0       0       0       0       0   \n",
       "1      0       0       0       0       0       0       0       0       0   \n",
       "2      1       0       0       0       0       0       0       0       0   \n",
       "3      4       0       0       0       0       0       0       0       0   \n",
       "4      0       0       0       0       0       0       0       0       0   \n",
       "\n",
       "   pixel8    ...     pixel774  pixel775  pixel776  pixel777  pixel778  \\\n",
       "0       0    ...            0         0         0         0         0   \n",
       "1       0    ...            0         0         0         0         0   \n",
       "2       0    ...            0         0         0         0         0   \n",
       "3       0    ...            0         0         0         0         0   \n",
       "4       0    ...            0         0         0         0         0   \n",
       "\n",
       "   pixel779  pixel780  pixel781  pixel782  pixel783  \n",
       "0         0         0         0         0         0  \n",
       "1         0         0         0         0         0  \n",
       "2         0         0         0         0         0  \n",
       "3         0         0         0         0         0  \n",
       "4         0         0         0         0         0  \n",
       "\n",
       "[5 rows x 785 columns]"
      ]
     },
     "execution_count": 5,
     "metadata": {},
     "output_type": "execute_result"
    }
   ],
   "source": [
    "import pandas as pd\n",
    "data = pd.read_csv(r\"G:\\临时3-8\\网易云课堂《菜菜的机器学习sklearn课堂》\\课件\\03数据预处理和特征工程\\digit recognizor.csv\",\n",
    "                   engine = \"python\"\n",
    "                  )\n",
    "data.head()"
   ]
  },
  {
   "cell_type": "code",
   "execution_count": 11,
   "metadata": {},
   "outputs": [
    {
     "data": {
      "text/plain": [
       "(42000, 784)"
      ]
     },
     "execution_count": 11,
     "metadata": {},
     "output_type": "execute_result"
    }
   ],
   "source": [
    "x = data.iloc[:,1:]\n",
    "y = data.iloc[:,0]\n",
    "\n",
    "x.shape"
   ]
  },
  {
   "cell_type": "code",
   "execution_count": 7,
   "metadata": {},
   "outputs": [],
   "source": [
    "# from sklearn.feature_selection import VarianceThreshold\n",
    "# selector  = VarianceThreshold()\n",
    "# x_var0 = selector.fit_transform(x)\n",
    "\n",
    "# x_var0.shape"
   ]
  },
  {
   "cell_type": "code",
   "execution_count": 12,
   "metadata": {},
   "outputs": [
    {
     "data": {
      "text/plain": [
       "(42000, 708)"
      ]
     },
     "execution_count": 12,
     "metadata": {},
     "output_type": "execute_result"
    }
   ],
   "source": [
    "from sklearn.feature_selection import VarianceThreshold\n",
    "x_var1 = VarianceThreshold().fit_transform(x)\n",
    "x_var1.shape"
   ]
  },
  {
   "cell_type": "code",
   "execution_count": 16,
   "metadata": {},
   "outputs": [
    {
     "data": {
      "text/plain": [
       "array([0.00000000e+00, 0.00000000e+00, 0.00000000e+00, 0.00000000e+00,\n",
       "       0.00000000e+00, 0.00000000e+00, 0.00000000e+00, 0.00000000e+00,\n",
       "       0.00000000e+00, 0.00000000e+00, 0.00000000e+00, 0.00000000e+00,\n",
       "       3.22760590e-01, 2.64689018e+00, 1.11085714e+00, 1.92857143e-03,\n",
       "       0.00000000e+00, 0.00000000e+00, 0.00000000e+00, 0.00000000e+00,\n",
       "       0.00000000e+00, 0.00000000e+00, 0.00000000e+00, 0.00000000e+00,\n",
       "       0.00000000e+00, 0.00000000e+00, 0.00000000e+00, 0.00000000e+00,\n",
       "       0.00000000e+00, 0.00000000e+00, 0.00000000e+00, 0.00000000e+00,\n",
       "       6.09523810e-03, 5.41186213e-02, 1.28065733e+00, 5.33793150e+00,\n",
       "       9.74592647e+00, 1.06219147e+01, 2.49289953e+01, 3.37671294e+01,\n",
       "       3.59425660e+01, 3.49309575e+01, 3.62943342e+01, 3.27911079e+01,\n",
       "       3.04237672e+01, 2.95547817e+01, 2.00568398e+01, 1.19545659e+01,\n",
       "       8.60419724e+00, 2.55465685e+00, 1.60530842e+00, 9.29377602e-01,\n",
       "       0.00000000e+00, 0.00000000e+00, 0.00000000e+00, 0.00000000e+00,\n",
       "       0.00000000e+00, 0.00000000e+00, 9.75238095e-02, 2.00238095e-02,\n",
       "       8.38442376e-01, 6.23481035e-01, 9.48446647e+00, 2.93530906e+01,\n",
       "       5.67872968e+01, 1.00230634e+02, 1.65873698e+02, 2.52738939e+02,\n",
       "       3.76018084e+02, 5.14426094e+02, 6.50102357e+02, 7.26608631e+02,\n",
       "       7.20549617e+02, 6.49594181e+02, 5.18814455e+02, 3.94092376e+02,\n",
       "       2.35038093e+02, 1.14843923e+02, 5.61521180e+01, 1.70331842e+01,\n",
       "       6.48083740e+00, 1.08821717e+00, 0.00000000e+00, 0.00000000e+00,\n",
       "       0.00000000e+00, 0.00000000e+00, 4.76236337e-01, 2.75489198e-01,\n",
       "       1.29297595e+00, 1.26446724e+01, 4.28153306e+01, 9.43924926e+01,\n",
       "       2.15866693e+02, 4.40079141e+02, 7.26679321e+02, 1.10776068e+03,\n",
       "       1.49073923e+03, 1.93993499e+03, 2.31552090e+03, 2.59022407e+03,\n",
       "       2.49637882e+03, 2.22627799e+03, 1.80800104e+03, 1.31417708e+03,\n",
       "       7.95887557e+02, 4.41320506e+02, 1.99165391e+02, 7.95865424e+01,\n",
       "       3.10264989e+01, 2.26837146e+00, 3.48595238e-01, 0.00000000e+00,\n",
       "       0.00000000e+00, 3.43809524e-02, 1.15447633e-01, 1.25289059e+00,\n",
       "       1.15530325e+01, 6.16749834e+01, 1.71059884e+02, 4.37266473e+02,\n",
       "       9.14503323e+02, 1.61733281e+03, 2.58238559e+03, 3.73319320e+03,\n",
       "       4.97101576e+03, 6.18285701e+03, 7.12176198e+03, 7.61902605e+03,\n",
       "       7.35140128e+03, 6.59732933e+03, 5.42159265e+03, 4.14622275e+03,\n",
       "       2.74210919e+03, 1.60716526e+03, 8.30092375e+02, 3.85524893e+02,\n",
       "       1.44471061e+02, 2.98361218e+01, 5.45472846e+00, 0.00000000e+00,\n",
       "       0.00000000e+00, 0.00000000e+00, 7.16499590e-01, 5.19710545e+00,\n",
       "       6.12264995e+01, 2.53650903e+02, 6.51218510e+02, 1.32512948e+03,\n",
       "       2.39625599e+03, 3.90432573e+03, 5.65248822e+03, 7.50750831e+03,\n",
       "       9.28013155e+03, 1.07098605e+04, 1.15505424e+04, 1.18353399e+04,\n",
       "       1.16728383e+04, 1.10553420e+04, 9.77051209e+03, 8.00603359e+03,\n",
       "       5.90601149e+03, 3.83759619e+03, 2.22900745e+03, 1.15756773e+03,\n",
       "       5.07963705e+02, 1.22007799e+02, 1.78286793e+01, 7.71428571e-03,\n",
       "       0.00000000e+00, 3.80952381e-04, 2.37199928e+00, 3.95713081e+01,\n",
       "       2.07427935e+02, 6.06480056e+02, 1.37944393e+03, 2.64652318e+03,\n",
       "       4.39063213e+03, 6.55335113e+03, 8.64850053e+03, 1.03924767e+04,\n",
       "       1.16602029e+04, 1.23720092e+04, 1.25944602e+04, 1.26223718e+04,\n",
       "       1.26261428e+04, 1.25617677e+04, 1.20570623e+04, 1.07029270e+04,\n",
       "       8.66359114e+03, 6.04366459e+03, 3.77715738e+03, 2.05026195e+03,\n",
       "       9.47173606e+02, 3.04430342e+02, 5.49548377e+01, 3.50648111e+00,\n",
       "       0.00000000e+00, 1.47595606e+00, 1.73365714e+01, 1.03708159e+02,\n",
       "       4.49220215e+02, 1.11598051e+03, 2.31261700e+03, 4.05981199e+03,\n",
       "       6.27112094e+03, 8.61258120e+03, 1.04088978e+04, 1.15863594e+04,\n",
       "       1.20861191e+04, 1.22313676e+04, 1.22256615e+04, 1.21230025e+04,\n",
       "       1.21304108e+04, 1.22345097e+04, 1.22810693e+04, 1.17587829e+04,\n",
       "       1.01382911e+04, 7.63237251e+03, 4.91736987e+03, 2.72324144e+03,\n",
       "       1.22087326e+03, 4.16952121e+02, 7.84619988e+01, 2.69471891e+00,\n",
       "       6.68809524e-02, 1.14742637e+01, 7.06094700e+01, 2.58579123e+02,\n",
       "       7.58812237e+02, 1.66236697e+03, 3.16372296e+03, 5.28061009e+03,\n",
       "       7.80859675e+03, 1.00912727e+04, 1.16171690e+04, 1.22797788e+04,\n",
       "       1.23833077e+04, 1.24581779e+04, 1.23866060e+04, 1.23021558e+04,\n",
       "       1.22796752e+04, 1.23185424e+04, 1.24370140e+04, 1.21441547e+04,\n",
       "       1.08800641e+04, 8.45510124e+03, 5.53590659e+03, 2.92299426e+03,\n",
       "       1.27293575e+03, 4.39632397e+02, 7.77464211e+01, 2.35152706e+00,\n",
       "       1.41387108e+00, 1.83873300e+01, 1.01219976e+02, 3.59094119e+02,\n",
       "       9.16376867e+02, 1.90547923e+03, 3.64144404e+03, 6.06890402e+03,\n",
       "       8.86696591e+03, 1.10299773e+04, 1.21997003e+04, 1.24677668e+04,\n",
       "       1.23878202e+04, 1.20816759e+04, 1.18414911e+04, 1.18243379e+04,\n",
       "       1.19196049e+04, 1.22058487e+04, 1.24040782e+04, 1.21013351e+04,\n",
       "       1.08905421e+04, 8.53288188e+03, 5.50599673e+03, 2.77180472e+03,\n",
       "       1.06085951e+03, 3.12689774e+02, 5.19949129e+01, 5.02228364e+00,\n",
       "       3.12121001e+00, 1.92336286e+01, 1.00196288e+02, 3.33760276e+02,\n",
       "       8.42723536e+02, 1.87713749e+03, 3.80614513e+03, 6.46513903e+03,\n",
       "       9.41022768e+03, 1.14543460e+04, 1.22494028e+04, 1.22551059e+04,\n",
       "       1.15972630e+04, 1.07756156e+04, 1.05723907e+04, 1.10540147e+04,\n",
       "       1.14904415e+04, 1.20641837e+04, 1.22340857e+04, 1.19219747e+04,\n",
       "       1.04672465e+04, 8.02282693e+03, 5.11996418e+03, 2.49340573e+03,\n",
       "       8.29185839e+02, 2.02728469e+02, 3.65252982e+01, 4.73545802e+00,\n",
       "       6.54689762e-01, 1.10762921e+01, 8.21810900e+01, 2.45993138e+02,\n",
       "       6.88037918e+02, 1.77097595e+03, 3.89510214e+03, 6.82414020e+03,\n",
       "       9.88524752e+03, 1.16866740e+04, 1.22052249e+04, 1.18503310e+04,\n",
       "       1.08057141e+04, 1.00029368e+04, 1.05613005e+04, 1.13459087e+04,\n",
       "       1.16813954e+04, 1.21153444e+04, 1.22013911e+04, 1.16257849e+04,\n",
       "       9.77524122e+03, 7.24039730e+03, 4.72965127e+03, 2.39611574e+03,\n",
       "       7.37971166e+02, 1.05994299e+02, 2.09059137e+01, 7.86044778e-01,\n",
       "       6.32595238e-01, 6.32770971e+00, 4.96597411e+01, 1.73335928e+02,\n",
       "       5.64355135e+02, 1.79246896e+03, 4.19852946e+03, 7.42330328e+03,\n",
       "       1.03680620e+04, 1.19241275e+04, 1.22167302e+04, 1.17312041e+04,\n",
       "       1.08331969e+04, 1.06956425e+04, 1.18765965e+04, 1.23125550e+04,\n",
       "       1.21036991e+04, 1.23648277e+04, 1.23532159e+04, 1.12659827e+04,\n",
       "       9.01309194e+03, 6.65304923e+03, 4.53230600e+03, 2.53236771e+03,\n",
       "       8.13317532e+02, 7.57360821e+01, 1.22663918e+01, 9.49856083e-01,\n",
       "       2.43809524e-02, 2.05312854e+00, 2.37737153e+01, 1.15295050e+02,\n",
       "       5.23151198e+02, 2.00356402e+03, 4.71208413e+03, 8.02210576e+03,\n",
       "       1.07142826e+04, 1.19844734e+04, 1.21443066e+04, 1.17352672e+04,\n",
       "       1.13501890e+04, 1.18058310e+04, 1.29305253e+04, 1.24664835e+04,\n",
       "       1.21090771e+04, 1.25723716e+04, 1.24760936e+04, 1.09595385e+04,\n",
       "       8.66572810e+03, 6.56048630e+03, 4.59945505e+03, 2.74090145e+03,\n",
       "       9.79975029e+02, 1.02467830e+02, 1.16955902e+01, 2.92035599e+00,\n",
       "       0.00000000e+00, 8.53042930e-01, 8.80331299e+00, 7.52414185e+01,\n",
       "       5.33884018e+02, 2.30333924e+03, 5.22384299e+03, 8.41596660e+03,\n",
       "       1.08537671e+04, 1.19270178e+04, 1.19856397e+04, 1.17039418e+04,\n",
       "       1.16715555e+04, 1.24445986e+04, 1.29618550e+04, 1.20230391e+04,\n",
       "       1.20377425e+04, 1.26434659e+04, 1.24012680e+04, 1.08759560e+04,\n",
       "       8.87523588e+03, 6.85569402e+03, 4.84378377e+03, 2.91796192e+03,\n",
       "       1.10844668e+03, 1.39672375e+02, 8.86639995e+00, 7.94981734e-02,\n",
       "       0.00000000e+00, 0.00000000e+00, 4.63950502e+00, 8.33393904e+01,\n",
       "       6.29744755e+02, 2.69185746e+03, 5.62185375e+03, 8.53435292e+03,\n",
       "       1.06354679e+04, 1.16397177e+04, 1.17410232e+04, 1.17248709e+04,\n",
       "       1.20446633e+04, 1.27114555e+04, 1.27125078e+04, 1.20008852e+04,\n",
       "       1.24098689e+04, 1.26745406e+04, 1.20741286e+04, 1.08898533e+04,\n",
       "       9.21323231e+03, 7.22598679e+03, 5.04689745e+03, 2.90913735e+03,\n",
       "       1.12277645e+03, 1.91078386e+02, 2.57469149e+01, 1.29179123e+00,\n",
       "       0.00000000e+00, 7.69744852e-02, 1.03197870e+01, 1.11053766e+02,\n",
       "       8.11564748e+02, 3.07386387e+03, 5.91065656e+03, 8.36008213e+03,\n",
       "       1.01408287e+04, 1.10632136e+04, 1.12910607e+04, 1.14976813e+04,\n",
       "       1.20735231e+04, 1.27502876e+04, 1.26987222e+04, 1.23901805e+04,\n",
       "       1.26170244e+04, 1.23916950e+04, 1.17483338e+04, 1.09217037e+04,\n",
       "       9.48760960e+03, 7.35171522e+03, 5.01095743e+03, 2.72992609e+03,\n",
       "       1.04916705e+03, 2.25941630e+02, 3.05993271e+01, 2.87316363e+00,\n",
       "       0.00000000e+00, 2.28039253e-01, 1.74352649e+01, 1.69998742e+02,\n",
       "       1.10767541e+03, 3.43926495e+03, 6.05208363e+03, 8.08344097e+03,\n",
       "       9.50906305e+03, 1.03073030e+04, 1.06715518e+04, 1.10973680e+04,\n",
       "       1.17642567e+04, 1.22940460e+04, 1.25222837e+04, 1.24838281e+04,\n",
       "       1.23538616e+04, 1.20985659e+04, 1.17177753e+04, 1.10570877e+04,\n",
       "       9.47381642e+03, 7.19094489e+03, 4.63491474e+03, 2.42432309e+03,\n",
       "       9.17534777e+02, 2.34119338e+02, 3.27687618e+01, 1.59861539e+00,\n",
       "       1.47639388e-01, 4.47934602e-01, 2.76028871e+01, 2.71942488e+02,\n",
       "       1.45371251e+03, 3.83133451e+03, 6.28631187e+03, 8.14612790e+03,\n",
       "       9.30917203e+03, 1.00179199e+04, 1.05639229e+04, 1.09925571e+04,\n",
       "       1.13187529e+04, 1.19116163e+04, 1.23480093e+04, 1.23440430e+04,\n",
       "       1.21692394e+04, 1.21290528e+04, 1.19460348e+04, 1.11011974e+04,\n",
       "       9.19667530e+03, 6.71976236e+03, 4.18683656e+03, 2.12415117e+03,\n",
       "       8.18965786e+02, 2.22857925e+02, 2.54140760e+01, 1.36995713e+00,\n",
       "       0.00000000e+00, 1.81578450e+00, 4.96345920e+01, 3.80903626e+02,\n",
       "       1.68403918e+03, 4.10905800e+03, 6.66129020e+03, 8.56235623e+03,\n",
       "       9.76878976e+03, 1.05714566e+04, 1.11195093e+04, 1.14535438e+04,\n",
       "       1.17907581e+04, 1.21204054e+04, 1.24479360e+04, 1.23900112e+04,\n",
       "       1.22489975e+04, 1.23606302e+04, 1.19785927e+04, 1.06491638e+04,\n",
       "       8.49640625e+03, 5.95805507e+03, 3.53263357e+03, 1.70287256e+03,\n",
       "       6.43673157e+02, 1.79133677e+02, 2.84028991e+01, 6.28175963e-01,\n",
       "       0.00000000e+00, 1.23625493e+00, 5.65580767e+01, 4.36617659e+02,\n",
       "       1.67611596e+03, 3.91825583e+03, 6.61848502e+03, 8.93197399e+03,\n",
       "       1.05084494e+04, 1.14328933e+04, 1.19110401e+04, 1.21686631e+04,\n",
       "       1.23576844e+04, 1.24269771e+04, 1.24145723e+04, 1.24011494e+04,\n",
       "       1.23905027e+04, 1.22793811e+04, 1.14389559e+04, 9.61909799e+03,\n",
       "       7.11272858e+03, 4.61189510e+03, 2.55069845e+03, 1.22448673e+03,\n",
       "       4.85654757e+02, 1.30709778e+02, 1.54997227e+01, 5.95238095e-02,\n",
       "       2.43809524e-02, 5.50986923e-01, 4.58334020e+01, 3.50464999e+02,\n",
       "       1.27200240e+03, 3.19694301e+03, 5.84711073e+03, 8.57024623e+03,\n",
       "       1.06775424e+04, 1.19000918e+04, 1.23555360e+04, 1.24402093e+04,\n",
       "       1.23586522e+04, 1.21992581e+04, 1.22280936e+04, 1.23162507e+04,\n",
       "       1.22510127e+04, 1.16314635e+04, 1.00849238e+04, 7.71018098e+03,\n",
       "       5.16732671e+03, 2.99318809e+03, 1.58471510e+03, 7.70678750e+02,\n",
       "       2.90603130e+02, 7.36919311e+01, 9.81920114e+00, 3.62142857e-02,\n",
       "       2.28809524e-02, 2.76185941e-03, 2.81056704e+01, 2.04208025e+02,\n",
       "       7.29051694e+02, 2.00572701e+03, 4.21366647e+03, 6.92346357e+03,\n",
       "       9.57389827e+03, 1.14603398e+04, 1.24666788e+04, 1.27682484e+04,\n",
       "       1.26613017e+04, 1.25534327e+04, 1.25998206e+04, 1.23927837e+04,\n",
       "       1.15590439e+04, 9.88953142e+03, 7.53295513e+03, 5.11441259e+03,\n",
       "       3.05547189e+03, 1.66092585e+03, 8.39969863e+02, 3.84512312e+02,\n",
       "       1.34737119e+02, 2.71408189e+01, 3.06857624e+00, 1.23428571e-01,\n",
       "       0.00000000e+00, 0.00000000e+00, 7.31084788e+00, 7.57570670e+01,\n",
       "       3.18535551e+02, 8.92561149e+02, 2.13007164e+03, 4.15513729e+03,\n",
       "       6.67943441e+03, 9.08942045e+03, 1.08768840e+04, 1.18600478e+04,\n",
       "       1.22185140e+04, 1.21488922e+04, 1.16761724e+04, 1.06623427e+04,\n",
       "       8.88180421e+03, 6.72867491e+03, 4.52696553e+03, 2.78125867e+03,\n",
       "       1.57340674e+03, 7.99627345e+02, 3.90776811e+02, 1.74143994e+02,\n",
       "       5.13083781e+01, 8.53411049e+00, 1.14082626e+00, 0.00000000e+00,\n",
       "       0.00000000e+00, 0.00000000e+00, 3.09874806e+00, 2.12014616e+01,\n",
       "       9.01086432e+01, 2.89578069e+02, 7.37002996e+02, 1.63305438e+03,\n",
       "       3.00614325e+03, 4.75217719e+03, 6.42418657e+03, 7.68266614e+03,\n",
       "       8.23705320e+03, 8.21603450e+03, 7.48615583e+03, 6.25364040e+03,\n",
       "       4.88502834e+03, 3.50985901e+03, 2.25424437e+03, 1.40076179e+03,\n",
       "       7.54457368e+02, 3.85015891e+02, 1.70931569e+02, 7.23728862e+01,\n",
       "       1.53588609e+01, 3.76286683e+00, 2.36378952e-01, 0.00000000e+00,\n",
       "       0.00000000e+00, 0.00000000e+00, 7.89492516e-02, 3.23002085e+00,\n",
       "       2.66993369e+01, 8.62829380e+01, 2.42567552e+02, 5.74670736e+02,\n",
       "       1.16062824e+03, 1.85908331e+03, 2.63430007e+03, 3.18296192e+03,\n",
       "       3.47208469e+03, 3.42498298e+03, 3.04423070e+03, 2.59463417e+03,\n",
       "       2.08583729e+03, 1.54170230e+03, 1.04262030e+03, 6.17155891e+02,\n",
       "       3.32872699e+02, 1.63141373e+02, 6.60019146e+01, 2.49646484e+01,\n",
       "       2.80197112e+00, 5.64225568e-01, 2.57523810e-01, 0.00000000e+00,\n",
       "       0.00000000e+00, 0.00000000e+00, 0.00000000e+00, 0.00000000e+00,\n",
       "       5.85748256e+00, 2.32008075e+01, 9.24954784e+01, 2.19439668e+02,\n",
       "       4.27698080e+02, 6.31131067e+02, 9.05773738e+02, 1.16529687e+03,\n",
       "       1.28219277e+03, 1.23351933e+03, 1.09034012e+03, 8.82789099e+02,\n",
       "       7.26724558e+02, 5.23459986e+02, 3.45778063e+02, 2.08353021e+02,\n",
       "       1.10624593e+02, 4.18520306e+01, 1.58110107e+01, 3.40777397e+00,\n",
       "       1.94759195e-02, 8.28809524e-02, 0.00000000e+00, 0.00000000e+00,\n",
       "       0.00000000e+00, 0.00000000e+00, 0.00000000e+00, 0.00000000e+00,\n",
       "       0.00000000e+00, 9.02126602e-01, 5.52653803e+00, 1.54785620e+01,\n",
       "       2.06441456e+01, 3.43017827e+01, 5.21246770e+01, 7.97142975e+01,\n",
       "       1.00081387e+02, 1.02608696e+02, 1.26673478e+02, 1.14405059e+02,\n",
       "       8.98716430e+01, 6.32064973e+01, 3.98525769e+01, 2.14722761e+01,\n",
       "       1.07222715e+01, 3.09714228e+00, 3.58912164e+00, 1.71614970e-01,\n",
       "       0.00000000e+00, 0.00000000e+00, 0.00000000e+00, 0.00000000e+00])"
      ]
     },
     "execution_count": 16,
     "metadata": {},
     "output_type": "execute_result"
    }
   ],
   "source": [
    "# 显示多行的执行信息\n",
    "from IPython.core.interactiveshell import InteractiveShell\n",
    "InteractiveShell.ast_node_interactivity = \"all\"\n",
    "x.var().values #求方差"
   ]
  },
  {
   "cell_type": "code",
   "execution_count": 17,
   "metadata": {},
   "outputs": [
    {
     "data": {
      "text/plain": [
       "1352.286703180131"
      ]
     },
     "execution_count": 17,
     "metadata": {},
     "output_type": "execute_result"
    }
   ],
   "source": [
    "import numpy as np\n",
    "np.median(x.var().values)"
   ]
  },
  {
   "cell_type": "code",
   "execution_count": 18,
   "metadata": {},
   "outputs": [
    {
     "data": {
      "text/plain": [
       "(42000, 392)"
      ]
     },
     "execution_count": 18,
     "metadata": {},
     "output_type": "execute_result"
    }
   ],
   "source": [
    "x_fsvar = VarianceThreshold(np.median(x.var().values)).fit_transform(x)\n",
    "x_fsvar.shape"
   ]
  },
  {
   "cell_type": "markdown",
   "metadata": {},
   "source": [
    "# 若特征是伯努利变量，假设p = 0.8，即二分类特征中的模中分类占到80%以上的删除特征"
   ]
  },
  {
   "cell_type": "code",
   "execution_count": 20,
   "metadata": {},
   "outputs": [
    {
     "data": {
      "text/plain": [
       "(42000, 685)"
      ]
     },
     "execution_count": 20,
     "metadata": {},
     "output_type": "execute_result"
    }
   ],
   "source": [
    "x_bvar = VarianceThreshold(.8 *(1-.8)).fit_transform(x)\n",
    "x_bvar.shape"
   ]
  },
  {
   "cell_type": "markdown",
   "metadata": {},
   "source": [
    "# 方差过滤对于模型的影响"
   ]
  },
  {
   "cell_type": "code",
   "execution_count": 23,
   "metadata": {},
   "outputs": [
    {
     "name": "stdout",
     "output_type": "stream",
     "text": [
      "577 ms ± 9.09 ms per loop (mean ± std. dev. of 7 runs, 1 loop each)\n"
     ]
    }
   ],
   "source": [
    "%%timeit\n",
    "# KNN 和随机森林在不同的方差效果下的对比\n",
    "from sklearn.ensemble import RandomForestClassifier as RFC\n",
    "from sklearn.neighbors import KNeighborsClassifier as KNN \n",
    "from sklearn.model_selection import cross_val_score\n",
    "import numpy as np\n",
    "X = data.iloc[:,1:]\n",
    "Y = data.iloc[:,0]\n",
    "\n",
    "x_fsvar = VarianceThreshold(np.median(X.var().values)).fit_transform(X)"
   ]
  },
  {
   "cell_type": "code",
   "execution_count": null,
   "metadata": {},
   "outputs": [],
   "source": [
    "%%timeit  # 用来判断时间的，一般会将这个cell运行7次，然后取平均值\n",
    "cross_val_score(KNN(),X,Y,cv =5).mean()\n",
    "时间在33mins,准确率在0.966"
   ]
  },
  {
   "cell_type": "code",
   "execution_count": null,
   "metadata": {},
   "outputs": [],
   "source": [
    "# KNN方差过滤后\n",
    "cross_val_score(KNN(),x_fsvar,y,cv = 5).mean()\n",
    "# 运行时间按在20mins,准确率在 0.966"
   ]
  },
  {
   "cell_type": "markdown",
   "metadata": {},
   "source": [
    "### 随机森林方差过滤前后"
   ]
  },
  {
   "cell_type": "code",
   "execution_count": 27,
   "metadata": {},
   "outputs": [
    {
     "data": {
      "text/plain": [
       "0.9380003861799541"
      ]
     },
     "execution_count": 27,
     "metadata": {},
     "output_type": "execute_result"
    }
   ],
   "source": [
    "from sklearn.ensemble import RandomForestClassifier as RFC\n",
    "from sklearn.neighbors import KNeighborsClassifier as KNN \n",
    "from sklearn.model_selection import cross_val_score\n",
    "import numpy as np\n",
    "X = data.iloc[:,1:]\n",
    "Y = data.iloc[:,0]\n",
    "\n",
    "x_fsvar = VarianceThreshold(np.median(X.var().values)).fit_transform(X)\n",
    "cross_val_score(RFC(n_estimators=10,random_state=0),X,Y,cv=5).mean()\n",
    "# cross_val_score(RFC(n_estimators = 10,random_state = 0),X,Y,cv =5).mean()\n",
    "\n"
   ]
  },
  {
   "cell_type": "code",
   "execution_count": null,
   "metadata": {},
   "outputs": [],
   "source": [
    "%%timeit\n",
    "cross_val_score(RFC(n_estimators = 10,random_state = 0).X.Y.cv = 5).mean()"
   ]
  },
  {
   "cell_type": "markdown",
   "metadata": {},
   "source": [
    "# 相关性过滤"
   ]
  },
  {
   "cell_type": "code",
   "execution_count": 29,
   "metadata": {},
   "outputs": [
    {
     "data": {
      "text/plain": [
       "(42000, 300)"
      ]
     },
     "execution_count": 29,
     "metadata": {},
     "output_type": "execute_result"
    }
   ],
   "source": [
    "from sklearn.ensemble import RandomForestClassifier as RFC\n",
    "from sklearn.model_selection import cross_val_score\n",
    "from sklearn.feature_selection import SelectKBest\n",
    "from sklearn.feature_selection import chi2\n",
    "# 假设我们需要寻找300个特征\n",
    "x_fschi = SelectKBest(chi2,k = 300).fit_transform(x_fsvar,y)\n",
    "x_fschi.shape"
   ]
  },
  {
   "cell_type": "code",
   "execution_count": 30,
   "metadata": {},
   "outputs": [
    {
     "data": {
      "text/plain": [
       "0.9333098667649198"
      ]
     },
     "execution_count": 30,
     "metadata": {},
     "output_type": "execute_result"
    }
   ],
   "source": [
    "cross_val_score(RFC(n_estimators = 10,random_state = 0),x_fschi,Y,cv =5).mean()"
   ]
  },
  {
   "cell_type": "code",
   "execution_count": 32,
   "metadata": {
    "scrolled": true
   },
   "outputs": [
    {
     "ename": "ValueError",
     "evalue": "x and y must have same first dimension, but have shapes (15,) and (19,)",
     "output_type": "error",
     "traceback": [
      "\u001b[1;31m---------------------------------------------------------------------------\u001b[0m",
      "\u001b[1;31mValueError\u001b[0m                                Traceback (most recent call last)",
      "\u001b[1;32m<ipython-input-32-a5052cf37b40>\u001b[0m in \u001b[0;36m<module>\u001b[1;34m\u001b[0m\n\u001b[0;32m      9\u001b[0m     \u001b[0mscore\u001b[0m\u001b[1;33m.\u001b[0m\u001b[0mappend\u001b[0m\u001b[1;33m(\u001b[0m\u001b[0monce\u001b[0m\u001b[1;33m)\u001b[0m\u001b[1;33m\u001b[0m\u001b[1;33m\u001b[0m\u001b[0m\n\u001b[0;32m     10\u001b[0m \u001b[1;33m\u001b[0m\u001b[0m\n\u001b[1;32m---> 11\u001b[1;33m \u001b[0mplt\u001b[0m\u001b[1;33m.\u001b[0m\u001b[0mplot\u001b[0m\u001b[1;33m(\u001b[0m\u001b[0mrange\u001b[0m\u001b[1;33m(\u001b[0m\u001b[1;36m350\u001b[0m\u001b[1;33m,\u001b[0m\u001b[1;36m200\u001b[0m\u001b[1;33m,\u001b[0m\u001b[1;33m-\u001b[0m\u001b[1;36m10\u001b[0m\u001b[1;33m)\u001b[0m\u001b[1;33m,\u001b[0m\u001b[0mscore\u001b[0m\u001b[1;33m)\u001b[0m\u001b[1;33m\u001b[0m\u001b[1;33m\u001b[0m\u001b[0m\n\u001b[0m\u001b[0;32m     12\u001b[0m \u001b[0mplt\u001b[0m\u001b[1;33m.\u001b[0m\u001b[0mshow\u001b[0m\u001b[1;33m(\u001b[0m\u001b[1;33m)\u001b[0m\u001b[1;33m\u001b[0m\u001b[1;33m\u001b[0m\u001b[0m\n",
      "\u001b[1;32mE:\\Anaconda\\lib\\site-packages\\matplotlib\\pyplot.py\u001b[0m in \u001b[0;36mplot\u001b[1;34m(scalex, scaley, data, *args, **kwargs)\u001b[0m\n\u001b[0;32m   2811\u001b[0m     return gca().plot(\n\u001b[0;32m   2812\u001b[0m         *args, scalex=scalex, scaley=scaley, **({\"data\": data} if data\n\u001b[1;32m-> 2813\u001b[1;33m         is not None else {}), **kwargs)\n\u001b[0m\u001b[0;32m   2814\u001b[0m \u001b[1;33m\u001b[0m\u001b[0m\n\u001b[0;32m   2815\u001b[0m \u001b[1;33m\u001b[0m\u001b[0m\n",
      "\u001b[1;32mE:\\Anaconda\\lib\\site-packages\\matplotlib\\__init__.py\u001b[0m in \u001b[0;36minner\u001b[1;34m(ax, data, *args, **kwargs)\u001b[0m\n\u001b[0;32m   1808\u001b[0m                         \u001b[1;34m\"the Matplotlib list!)\"\u001b[0m \u001b[1;33m%\u001b[0m \u001b[1;33m(\u001b[0m\u001b[0mlabel_namer\u001b[0m\u001b[1;33m,\u001b[0m \u001b[0mfunc\u001b[0m\u001b[1;33m.\u001b[0m\u001b[0m__name__\u001b[0m\u001b[1;33m)\u001b[0m\u001b[1;33m,\u001b[0m\u001b[1;33m\u001b[0m\u001b[1;33m\u001b[0m\u001b[0m\n\u001b[0;32m   1809\u001b[0m                         RuntimeWarning, stacklevel=2)\n\u001b[1;32m-> 1810\u001b[1;33m             \u001b[1;32mreturn\u001b[0m \u001b[0mfunc\u001b[0m\u001b[1;33m(\u001b[0m\u001b[0max\u001b[0m\u001b[1;33m,\u001b[0m \u001b[1;33m*\u001b[0m\u001b[0margs\u001b[0m\u001b[1;33m,\u001b[0m \u001b[1;33m**\u001b[0m\u001b[0mkwargs\u001b[0m\u001b[1;33m)\u001b[0m\u001b[1;33m\u001b[0m\u001b[1;33m\u001b[0m\u001b[0m\n\u001b[0m\u001b[0;32m   1811\u001b[0m \u001b[1;33m\u001b[0m\u001b[0m\n\u001b[0;32m   1812\u001b[0m         inner.__doc__ = _add_data_doc(inner.__doc__,\n",
      "\u001b[1;32mE:\\Anaconda\\lib\\site-packages\\matplotlib\\axes\\_axes.py\u001b[0m in \u001b[0;36mplot\u001b[1;34m(self, scalex, scaley, *args, **kwargs)\u001b[0m\n\u001b[0;32m   1609\u001b[0m         \u001b[0mkwargs\u001b[0m \u001b[1;33m=\u001b[0m \u001b[0mcbook\u001b[0m\u001b[1;33m.\u001b[0m\u001b[0mnormalize_kwargs\u001b[0m\u001b[1;33m(\u001b[0m\u001b[0mkwargs\u001b[0m\u001b[1;33m,\u001b[0m \u001b[0mmlines\u001b[0m\u001b[1;33m.\u001b[0m\u001b[0mLine2D\u001b[0m\u001b[1;33m.\u001b[0m\u001b[0m_alias_map\u001b[0m\u001b[1;33m)\u001b[0m\u001b[1;33m\u001b[0m\u001b[1;33m\u001b[0m\u001b[0m\n\u001b[0;32m   1610\u001b[0m \u001b[1;33m\u001b[0m\u001b[0m\n\u001b[1;32m-> 1611\u001b[1;33m         \u001b[1;32mfor\u001b[0m \u001b[0mline\u001b[0m \u001b[1;32min\u001b[0m \u001b[0mself\u001b[0m\u001b[1;33m.\u001b[0m\u001b[0m_get_lines\u001b[0m\u001b[1;33m(\u001b[0m\u001b[1;33m*\u001b[0m\u001b[0margs\u001b[0m\u001b[1;33m,\u001b[0m \u001b[1;33m**\u001b[0m\u001b[0mkwargs\u001b[0m\u001b[1;33m)\u001b[0m\u001b[1;33m:\u001b[0m\u001b[1;33m\u001b[0m\u001b[1;33m\u001b[0m\u001b[0m\n\u001b[0m\u001b[0;32m   1612\u001b[0m             \u001b[0mself\u001b[0m\u001b[1;33m.\u001b[0m\u001b[0madd_line\u001b[0m\u001b[1;33m(\u001b[0m\u001b[0mline\u001b[0m\u001b[1;33m)\u001b[0m\u001b[1;33m\u001b[0m\u001b[1;33m\u001b[0m\u001b[0m\n\u001b[0;32m   1613\u001b[0m             \u001b[0mlines\u001b[0m\u001b[1;33m.\u001b[0m\u001b[0mappend\u001b[0m\u001b[1;33m(\u001b[0m\u001b[0mline\u001b[0m\u001b[1;33m)\u001b[0m\u001b[1;33m\u001b[0m\u001b[1;33m\u001b[0m\u001b[0m\n",
      "\u001b[1;32mE:\\Anaconda\\lib\\site-packages\\matplotlib\\axes\\_base.py\u001b[0m in \u001b[0;36m_grab_next_args\u001b[1;34m(self, *args, **kwargs)\u001b[0m\n\u001b[0;32m    391\u001b[0m                 \u001b[0mthis\u001b[0m \u001b[1;33m+=\u001b[0m \u001b[0margs\u001b[0m\u001b[1;33m[\u001b[0m\u001b[1;36m0\u001b[0m\u001b[1;33m]\u001b[0m\u001b[1;33m,\u001b[0m\u001b[1;33m\u001b[0m\u001b[1;33m\u001b[0m\u001b[0m\n\u001b[0;32m    392\u001b[0m                 \u001b[0margs\u001b[0m \u001b[1;33m=\u001b[0m \u001b[0margs\u001b[0m\u001b[1;33m[\u001b[0m\u001b[1;36m1\u001b[0m\u001b[1;33m:\u001b[0m\u001b[1;33m]\u001b[0m\u001b[1;33m\u001b[0m\u001b[1;33m\u001b[0m\u001b[0m\n\u001b[1;32m--> 393\u001b[1;33m             \u001b[1;32myield\u001b[0m \u001b[1;32mfrom\u001b[0m \u001b[0mself\u001b[0m\u001b[1;33m.\u001b[0m\u001b[0m_plot_args\u001b[0m\u001b[1;33m(\u001b[0m\u001b[0mthis\u001b[0m\u001b[1;33m,\u001b[0m \u001b[0mkwargs\u001b[0m\u001b[1;33m)\u001b[0m\u001b[1;33m\u001b[0m\u001b[1;33m\u001b[0m\u001b[0m\n\u001b[0m\u001b[0;32m    394\u001b[0m \u001b[1;33m\u001b[0m\u001b[0m\n\u001b[0;32m    395\u001b[0m \u001b[1;33m\u001b[0m\u001b[0m\n",
      "\u001b[1;32mE:\\Anaconda\\lib\\site-packages\\matplotlib\\axes\\_base.py\u001b[0m in \u001b[0;36m_plot_args\u001b[1;34m(self, tup, kwargs)\u001b[0m\n\u001b[0;32m    368\u001b[0m             \u001b[0mx\u001b[0m\u001b[1;33m,\u001b[0m \u001b[0my\u001b[0m \u001b[1;33m=\u001b[0m \u001b[0mindex_of\u001b[0m\u001b[1;33m(\u001b[0m\u001b[0mtup\u001b[0m\u001b[1;33m[\u001b[0m\u001b[1;33m-\u001b[0m\u001b[1;36m1\u001b[0m\u001b[1;33m]\u001b[0m\u001b[1;33m)\u001b[0m\u001b[1;33m\u001b[0m\u001b[1;33m\u001b[0m\u001b[0m\n\u001b[0;32m    369\u001b[0m \u001b[1;33m\u001b[0m\u001b[0m\n\u001b[1;32m--> 370\u001b[1;33m         \u001b[0mx\u001b[0m\u001b[1;33m,\u001b[0m \u001b[0my\u001b[0m \u001b[1;33m=\u001b[0m \u001b[0mself\u001b[0m\u001b[1;33m.\u001b[0m\u001b[0m_xy_from_xy\u001b[0m\u001b[1;33m(\u001b[0m\u001b[0mx\u001b[0m\u001b[1;33m,\u001b[0m \u001b[0my\u001b[0m\u001b[1;33m)\u001b[0m\u001b[1;33m\u001b[0m\u001b[1;33m\u001b[0m\u001b[0m\n\u001b[0m\u001b[0;32m    371\u001b[0m \u001b[1;33m\u001b[0m\u001b[0m\n\u001b[0;32m    372\u001b[0m         \u001b[1;32mif\u001b[0m \u001b[0mself\u001b[0m\u001b[1;33m.\u001b[0m\u001b[0mcommand\u001b[0m \u001b[1;33m==\u001b[0m \u001b[1;34m'plot'\u001b[0m\u001b[1;33m:\u001b[0m\u001b[1;33m\u001b[0m\u001b[1;33m\u001b[0m\u001b[0m\n",
      "\u001b[1;32mE:\\Anaconda\\lib\\site-packages\\matplotlib\\axes\\_base.py\u001b[0m in \u001b[0;36m_xy_from_xy\u001b[1;34m(self, x, y)\u001b[0m\n\u001b[0;32m    229\u001b[0m         \u001b[1;32mif\u001b[0m \u001b[0mx\u001b[0m\u001b[1;33m.\u001b[0m\u001b[0mshape\u001b[0m\u001b[1;33m[\u001b[0m\u001b[1;36m0\u001b[0m\u001b[1;33m]\u001b[0m \u001b[1;33m!=\u001b[0m \u001b[0my\u001b[0m\u001b[1;33m.\u001b[0m\u001b[0mshape\u001b[0m\u001b[1;33m[\u001b[0m\u001b[1;36m0\u001b[0m\u001b[1;33m]\u001b[0m\u001b[1;33m:\u001b[0m\u001b[1;33m\u001b[0m\u001b[1;33m\u001b[0m\u001b[0m\n\u001b[0;32m    230\u001b[0m             raise ValueError(\"x and y must have same first dimension, but \"\n\u001b[1;32m--> 231\u001b[1;33m                              \"have shapes {} and {}\".format(x.shape, y.shape))\n\u001b[0m\u001b[0;32m    232\u001b[0m         \u001b[1;32mif\u001b[0m \u001b[0mx\u001b[0m\u001b[1;33m.\u001b[0m\u001b[0mndim\u001b[0m \u001b[1;33m>\u001b[0m \u001b[1;36m2\u001b[0m \u001b[1;32mor\u001b[0m \u001b[0my\u001b[0m\u001b[1;33m.\u001b[0m\u001b[0mndim\u001b[0m \u001b[1;33m>\u001b[0m \u001b[1;36m2\u001b[0m\u001b[1;33m:\u001b[0m\u001b[1;33m\u001b[0m\u001b[1;33m\u001b[0m\u001b[0m\n\u001b[0;32m    233\u001b[0m             raise ValueError(\"x and y can be no greater than 2-D, but have \"\n",
      "\u001b[1;31mValueError\u001b[0m: x and y must have same first dimension, but have shapes (15,) and (19,)"
     ]
    },
    {
     "data": {
      "image/png": "[encoded data removed]",
      "text/plain": [
       "<Figure size 432x288 with 1 Axes>"
      ]
     },
     "metadata": {
      "needs_background": "light"
     },
     "output_type": "display_data"
    }
   ],
   "source": [
    "#  选取超参数K\n",
    "%matplotlib inline\n",
    "import matplotlib.pyplot as plt\n",
    "\n",
    "score = []\n",
    "for i in range(390,200,-10):\n",
    "    x_fschi = SelectKBest(chi2,k = i).fit_transform(x_fsvar,Y)\n",
    "    once = cross_val_score(RFC(n_estimators = 10,random_state = 0),x_fschi,Y,cv = 5).mean()\n",
    "    score.append(once)\n",
    "\n"
   ]
  },
  {
   "cell_type": "code",
   "execution_count": 35,
   "metadata": {},
   "outputs": [
    {
     "data": {
      "text/plain": [
       "[<matplotlib.lines.Line2D at 0x24e8509c320>]"
      ]
     },
     "execution_count": 35,
     "metadata": {},
     "output_type": "execute_result"
    },
    {
     "data": {
      "image/png": "[encoded data removed]",
      "text/plain": [
       "<Figure size 432x288 with 1 Axes>"
      ]
     },
     "metadata": {
      "needs_background": "light"
     },
     "output_type": "display_data"
    }
   ],
   "source": [
    "plt.plot(range(390,200,-10),score)\n",
    "plt.show()"
   ]
  },
  {
   "cell_type": "markdown",
   "metadata": {},
   "source": [
    "# F检验"
   ]
  },
  {
   "cell_type": "code",
   "execution_count": 36,
   "metadata": {
    "scrolled": true
   },
   "outputs": [
    {
     "data": {
      "text/plain": [
       "array([ 618.65383492,  846.18897012, 1115.40617051, 1362.3677305 ,\n",
       "       1452.03355369, 1381.09095571, 1138.26505266,  464.29616121,\n",
       "        660.00977785,  849.66393412, 1004.7450309 , 1124.76177588,\n",
       "       1200.99190762, 1209.29489877, 1110.4944286 ,  854.66183292,\n",
       "        577.52063451,  342.09729054,  178.67397866,  118.01145533,\n",
       "        612.12261014,  899.40904291, 1196.17528948, 1424.49864852,\n",
       "       1569.26556677, 1742.49910702, 1910.98023795, 1969.20520223,\n",
       "       1731.37475948, 1295.09668012,  839.15325001,  531.97951763,\n",
       "        371.82392681,  336.00820537,  378.93378743,  317.47025479,\n",
       "        528.94881012,  766.40792176,  947.63168717, 1086.0472161 ,\n",
       "       1177.72017709, 1253.79641973, 1344.06961068, 1507.33781169,\n",
       "       1616.50454434, 1512.25864876, 1289.65180587, 1051.26276412,\n",
       "        839.48869386,  680.07426932,  600.85538567,  633.55772663,\n",
       "        683.96908509,  347.65867784,  452.76238211,  509.16387684,\n",
       "        515.7498157 ,  532.86107778,  594.62512658,  664.18740444,\n",
       "        709.37133696,  798.11767931,  876.69849088,  852.76926441,\n",
       "        785.70173347,  802.88980095,  813.2041131 ,  760.85552527,\n",
       "        687.94148028,  642.84071735,  698.11530217,  367.16414289,\n",
       "        455.90449427,  485.50500277,  476.23046034,  536.72332365,\n",
       "        740.12587382, 1041.38089649, 1168.8028973 ,  941.91083922,\n",
       "        795.72843454,  861.29818828,  868.19464432,  838.80173567,\n",
       "        886.26659655,  959.12740961,  934.56890789,  783.1988476 ,\n",
       "        631.01107034,  542.02937189,  493.83337615,  533.27899195,\n",
       "        572.34131749,  657.20547321,  981.66873526, 1465.82267956,\n",
       "       1756.05831022, 1385.28086085,  798.73125604,  761.40508874,\n",
       "       1062.6919609 ,  979.38193965,  947.82602644, 1085.00522683,\n",
       "       1152.13801689, 1118.1595422 , 1021.13086631,  812.37823266,\n",
       "        509.86857625,  411.37986706,  430.7150329 ,  545.55866945,\n",
       "        829.92259533, 1376.4852629 , 1811.62922878, 1601.33613631,\n",
       "        898.8719158 ,  417.37765921,  895.77244253, 1455.38592931,\n",
       "        956.2421521 ,  990.1748413 , 1359.47406197, 1279.27992017,\n",
       "       1166.80888121, 1291.41792351, 1263.86987819,  787.81807986,\n",
       "        237.21811742,  333.12552194,  621.47324186, 1139.04489426,\n",
       "       1713.54508435, 1823.42451065, 1436.53069242,  884.19442779,\n",
       "        717.63373994, 2026.90370414, 2219.46450157,  943.55587655,\n",
       "       1217.29127813, 1677.03878308, 1193.63540136, 1039.56842784,\n",
       "       1570.18098323, 1878.5600272 , 1284.78903715,  190.02740438,\n",
       "        444.17019739,  928.80156872, 1562.54171587, 1940.54801063,\n",
       "       1816.57346013, 1683.83193784, 1619.17496376, 1865.78706551,\n",
       "       3482.82350415, 2326.10253286,  990.67999393, 1632.46650414,\n",
       "       1652.51500198,  891.26746579,  883.96689508, 1805.57103626,\n",
       "       2389.97435433, 1630.34926872,  301.84091297,  746.3286491 ,\n",
       "       1394.82469151, 2008.19411716, 2107.3680475 , 1767.97892382,\n",
       "       1786.08753011, 1980.1986791 , 2509.14739387, 3366.13986444,\n",
       "       1959.90573326, 1299.36608875, 2218.28123025, 1470.25657381,\n",
       "        681.02610086,  937.54741741, 2037.45812231, 2518.68810085,\n",
       "       1583.0009463 ,  509.76276636, 1139.21364745, 1881.71834116,\n",
       "       2351.30851824, 2175.48525458, 1624.49647062, 1399.44534221,\n",
       "       1440.98664744, 2229.25720739, 2764.00452882, 1633.74258116,\n",
       "       1870.29253742, 2628.79930504, 1367.31440177,  707.38857243,\n",
       "       1150.06936228, 2089.08213594, 2185.00557858, 1318.14722036,\n",
       "        747.37697661, 1453.94015412, 2116.40726513, 2399.53090598,\n",
       "       2143.53519978, 1651.89817908, 1414.71662551, 1481.62100314,\n",
       "       2468.21266727, 2666.18025642, 1520.6400065 , 2223.14029953,\n",
       "       2271.07109628, 1111.06997494,  844.31183874, 1388.60413626,\n",
       "       1917.10207189, 1667.61400215,  996.09054823,  907.80926355,\n",
       "       1607.70263546, 2085.21461056, 2073.68356276, 1880.26929744,\n",
       "       1756.40165025, 1716.45478479, 1964.08537105, 2796.13761562,\n",
       "       2413.09378391, 1543.01310963, 2118.10377396, 1475.29541488,\n",
       "        783.59003763, 1040.65400476, 1582.46200024, 1617.32566033,\n",
       "       1188.24554305,  642.2665701 , 1011.30241064, 1725.70185142,\n",
       "       2067.20755476, 1893.35116837, 1795.96538455, 1922.58627318,\n",
       "       1951.69309645, 2115.44871238, 2479.27958039, 1809.12095649,\n",
       "       1330.8686207 , 1396.29767244,  741.9063402 ,  751.14036409,\n",
       "       1410.18529816, 1677.6595494 , 1308.77910167,  836.77047561,\n",
       "        430.93133677,  313.888671  , 1039.31894918, 1811.68171256,\n",
       "       2191.69964967, 2035.63638826, 2114.65218363, 2511.27142071,\n",
       "       2363.46743373, 2053.7687027 , 1865.84769096, 1202.94179711,\n",
       "        793.61414555,  633.71267282,  636.18282736, 1218.61245591,\n",
       "       1712.62901816, 1484.60290068,  996.06129466,  626.13659134,\n",
       "        441.56356583,  374.08815796,  983.21640593, 1764.93014215,\n",
       "       2264.93587233, 2262.87269162, 2323.50890468, 2611.66920897,\n",
       "       2387.45723028, 1763.5696083 , 1256.32165954,  704.77285945,\n",
       "        406.94580935,  548.06969664, 1051.50016486, 1542.11172909,\n",
       "       1494.38472469, 1130.61174365,  823.84437277,  650.69506052,\n",
       "        594.18011033,  415.73313115,  853.97575783, 1548.7167469 ,\n",
       "       2204.00694989, 2444.69535795, 2267.62871155, 2003.69161124,\n",
       "       1643.94961527, 1202.35520102,  804.18805494,  483.32932365,\n",
       "        420.99263006,  750.06949525, 1136.32227345, 1202.49476981,\n",
       "        990.75097727,  791.03016258,  692.46641159,  653.96372577,\n",
       "        647.90433225, 1149.80460733, 1826.54973661, 2361.75564926,\n",
       "       2313.09139096, 1694.26613916, 1012.97938867,  608.4174945 ,\n",
       "        432.07115684,  383.54620406,  487.70312805,  698.78061024,\n",
       "        797.0763827 ,  714.70722998,  574.2849126 ,  507.5143557 ,\n",
       "        508.77434021,  510.36884435,  404.13860698,  686.31274396,\n",
       "       1103.81003251, 1590.83695172, 1912.74984902, 1832.62220523,\n",
       "       1482.39046946, 1142.10827805,  968.65089356,  860.24853405,\n",
       "        780.75215696,  696.78170045,  567.41403081,  403.59649375,\n",
       "        284.91007929,  245.59060983,  255.97458001,  293.6787996 ,\n",
       "        460.46868009,  687.29383613,  940.06512113, 1205.58777055,\n",
       "       1485.37178744, 1623.12886955, 1488.04856361, 1119.91615126,\n",
       "        770.06544455,  530.6398126 ,  376.66549502,  258.05875548,\n",
       "        172.20323661,  123.79865884,  160.44132806,  249.15104257,\n",
       "        374.15221131,  544.73535425,  727.78945347,  853.98680046,\n",
       "        819.19801306,  656.55547718,  510.87851723,  445.09613969,\n",
       "        401.25608847,  333.48574029,  243.88699402,  645.9545719 ,\n",
       "        920.3259526 , 1196.07900013, 1308.12260763, 1218.37705687,\n",
       "        996.41501921,  792.59409228,  663.47516843,  550.14745143])"
      ]
     },
     "execution_count": 36,
     "metadata": {},
     "output_type": "execute_result"
    }
   ],
   "source": [
    "from sklearn.feature_selection import f_classif\n",
    "F,pvalues_f = f_classif(x_fsvar,y)\n",
    "F"
   ]
  },
  {
   "cell_type": "code",
   "execution_count": 37,
   "metadata": {
    "scrolled": true
   },
   "outputs": [
    {
     "data": {
      "text/plain": [
       "array([0.00000000e+000, 0.00000000e+000, 0.00000000e+000, 0.00000000e+000,\n",
       "       0.00000000e+000, 0.00000000e+000, 0.00000000e+000, 0.00000000e+000,\n",
       "       0.00000000e+000, 0.00000000e+000, 0.00000000e+000, 0.00000000e+000,\n",
       "       0.00000000e+000, 0.00000000e+000, 0.00000000e+000, 0.00000000e+000,\n",
       "       0.00000000e+000, 0.00000000e+000, 0.00000000e+000, 4.71193533e-220,\n",
       "       0.00000000e+000, 0.00000000e+000, 0.00000000e+000, 0.00000000e+000,\n",
       "       0.00000000e+000, 0.00000000e+000, 0.00000000e+000, 0.00000000e+000,\n",
       "       0.00000000e+000, 0.00000000e+000, 0.00000000e+000, 0.00000000e+000,\n",
       "       0.00000000e+000, 0.00000000e+000, 0.00000000e+000, 0.00000000e+000,\n",
       "       0.00000000e+000, 0.00000000e+000, 0.00000000e+000, 0.00000000e+000,\n",
       "       0.00000000e+000, 0.00000000e+000, 0.00000000e+000, 0.00000000e+000,\n",
       "       0.00000000e+000, 0.00000000e+000, 0.00000000e+000, 0.00000000e+000,\n",
       "       0.00000000e+000, 0.00000000e+000, 0.00000000e+000, 0.00000000e+000,\n",
       "       0.00000000e+000, 0.00000000e+000, 0.00000000e+000, 0.00000000e+000,\n",
       "       0.00000000e+000, 0.00000000e+000, 0.00000000e+000, 0.00000000e+000,\n",
       "       0.00000000e+000, 0.00000000e+000, 0.00000000e+000, 0.00000000e+000,\n",
       "       0.00000000e+000, 0.00000000e+000, 0.00000000e+000, 0.00000000e+000,\n",
       "       0.00000000e+000, 0.00000000e+000, 0.00000000e+000, 0.00000000e+000,\n",
       "       0.00000000e+000, 0.00000000e+000, 0.00000000e+000, 0.00000000e+000,\n",
       "       0.00000000e+000, 0.00000000e+000, 0.00000000e+000, 0.00000000e+000,\n",
       "       0.00000000e+000, 0.00000000e+000, 0.00000000e+000, 0.00000000e+000,\n",
       "       0.00000000e+000, 0.00000000e+000, 0.00000000e+000, 0.00000000e+000,\n",
       "       0.00000000e+000, 0.00000000e+000, 0.00000000e+000, 0.00000000e+000,\n",
       "       0.00000000e+000, 0.00000000e+000, 0.00000000e+000, 0.00000000e+000,\n",
       "       0.00000000e+000, 0.00000000e+000, 0.00000000e+000, 0.00000000e+000,\n",
       "       0.00000000e+000, 0.00000000e+000, 0.00000000e+000, 0.00000000e+000,\n",
       "       0.00000000e+000, 0.00000000e+000, 0.00000000e+000, 0.00000000e+000,\n",
       "       0.00000000e+000, 0.00000000e+000, 0.00000000e+000, 0.00000000e+000,\n",
       "       0.00000000e+000, 0.00000000e+000, 0.00000000e+000, 0.00000000e+000,\n",
       "       0.00000000e+000, 0.00000000e+000, 0.00000000e+000, 0.00000000e+000,\n",
       "       0.00000000e+000, 0.00000000e+000, 0.00000000e+000, 0.00000000e+000,\n",
       "       0.00000000e+000, 0.00000000e+000, 0.00000000e+000, 0.00000000e+000,\n",
       "       0.00000000e+000, 0.00000000e+000, 0.00000000e+000, 0.00000000e+000,\n",
       "       0.00000000e+000, 0.00000000e+000, 0.00000000e+000, 0.00000000e+000,\n",
       "       0.00000000e+000, 0.00000000e+000, 0.00000000e+000, 0.00000000e+000,\n",
       "       0.00000000e+000, 0.00000000e+000, 0.00000000e+000, 0.00000000e+000,\n",
       "       0.00000000e+000, 0.00000000e+000, 0.00000000e+000, 0.00000000e+000,\n",
       "       0.00000000e+000, 0.00000000e+000, 0.00000000e+000, 0.00000000e+000,\n",
       "       0.00000000e+000, 0.00000000e+000, 0.00000000e+000, 0.00000000e+000,\n",
       "       0.00000000e+000, 0.00000000e+000, 0.00000000e+000, 0.00000000e+000,\n",
       "       0.00000000e+000, 0.00000000e+000, 0.00000000e+000, 0.00000000e+000,\n",
       "       0.00000000e+000, 0.00000000e+000, 0.00000000e+000, 0.00000000e+000,\n",
       "       0.00000000e+000, 0.00000000e+000, 0.00000000e+000, 0.00000000e+000,\n",
       "       0.00000000e+000, 0.00000000e+000, 0.00000000e+000, 0.00000000e+000,\n",
       "       0.00000000e+000, 0.00000000e+000, 0.00000000e+000, 0.00000000e+000,\n",
       "       0.00000000e+000, 0.00000000e+000, 0.00000000e+000, 0.00000000e+000,\n",
       "       0.00000000e+000, 0.00000000e+000, 0.00000000e+000, 0.00000000e+000,\n",
       "       0.00000000e+000, 0.00000000e+000, 0.00000000e+000, 0.00000000e+000,\n",
       "       0.00000000e+000, 0.00000000e+000, 0.00000000e+000, 0.00000000e+000,\n",
       "       0.00000000e+000, 0.00000000e+000, 0.00000000e+000, 0.00000000e+000,\n",
       "       0.00000000e+000, 0.00000000e+000, 0.00000000e+000, 0.00000000e+000,\n",
       "       0.00000000e+000, 0.00000000e+000, 0.00000000e+000, 0.00000000e+000,\n",
       "       0.00000000e+000, 0.00000000e+000, 0.00000000e+000, 0.00000000e+000,\n",
       "       0.00000000e+000, 0.00000000e+000, 0.00000000e+000, 0.00000000e+000,\n",
       "       0.00000000e+000, 0.00000000e+000, 0.00000000e+000, 0.00000000e+000,\n",
       "       0.00000000e+000, 0.00000000e+000, 0.00000000e+000, 0.00000000e+000,\n",
       "       0.00000000e+000, 0.00000000e+000, 0.00000000e+000, 0.00000000e+000,\n",
       "       0.00000000e+000, 0.00000000e+000, 0.00000000e+000, 0.00000000e+000,\n",
       "       0.00000000e+000, 0.00000000e+000, 0.00000000e+000, 0.00000000e+000,\n",
       "       0.00000000e+000, 0.00000000e+000, 0.00000000e+000, 0.00000000e+000,\n",
       "       0.00000000e+000, 0.00000000e+000, 0.00000000e+000, 0.00000000e+000,\n",
       "       0.00000000e+000, 0.00000000e+000, 0.00000000e+000, 0.00000000e+000,\n",
       "       0.00000000e+000, 0.00000000e+000, 0.00000000e+000, 0.00000000e+000,\n",
       "       0.00000000e+000, 0.00000000e+000, 0.00000000e+000, 0.00000000e+000,\n",
       "       0.00000000e+000, 0.00000000e+000, 0.00000000e+000, 0.00000000e+000,\n",
       "       0.00000000e+000, 0.00000000e+000, 0.00000000e+000, 0.00000000e+000,\n",
       "       0.00000000e+000, 0.00000000e+000, 0.00000000e+000, 0.00000000e+000,\n",
       "       0.00000000e+000, 0.00000000e+000, 0.00000000e+000, 0.00000000e+000,\n",
       "       0.00000000e+000, 0.00000000e+000, 0.00000000e+000, 0.00000000e+000,\n",
       "       0.00000000e+000, 0.00000000e+000, 0.00000000e+000, 0.00000000e+000,\n",
       "       0.00000000e+000, 0.00000000e+000, 0.00000000e+000, 0.00000000e+000,\n",
       "       0.00000000e+000, 0.00000000e+000, 0.00000000e+000, 0.00000000e+000,\n",
       "       0.00000000e+000, 0.00000000e+000, 0.00000000e+000, 0.00000000e+000,\n",
       "       0.00000000e+000, 0.00000000e+000, 0.00000000e+000, 0.00000000e+000,\n",
       "       0.00000000e+000, 0.00000000e+000, 0.00000000e+000, 0.00000000e+000,\n",
       "       0.00000000e+000, 0.00000000e+000, 0.00000000e+000, 0.00000000e+000,\n",
       "       0.00000000e+000, 0.00000000e+000, 0.00000000e+000, 0.00000000e+000,\n",
       "       0.00000000e+000, 0.00000000e+000, 0.00000000e+000, 0.00000000e+000,\n",
       "       0.00000000e+000, 0.00000000e+000, 0.00000000e+000, 0.00000000e+000,\n",
       "       0.00000000e+000, 0.00000000e+000, 0.00000000e+000, 0.00000000e+000,\n",
       "       0.00000000e+000, 0.00000000e+000, 0.00000000e+000, 0.00000000e+000,\n",
       "       0.00000000e+000, 0.00000000e+000, 0.00000000e+000, 0.00000000e+000,\n",
       "       0.00000000e+000, 0.00000000e+000, 0.00000000e+000, 0.00000000e+000,\n",
       "       0.00000000e+000, 0.00000000e+000, 0.00000000e+000, 0.00000000e+000,\n",
       "       0.00000000e+000, 0.00000000e+000, 0.00000000e+000, 0.00000000e+000,\n",
       "       0.00000000e+000, 0.00000000e+000, 0.00000000e+000, 0.00000000e+000,\n",
       "       0.00000000e+000, 0.00000000e+000, 0.00000000e+000, 0.00000000e+000,\n",
       "       0.00000000e+000, 0.00000000e+000, 0.00000000e+000, 0.00000000e+000,\n",
       "       0.00000000e+000, 0.00000000e+000, 0.00000000e+000, 0.00000000e+000,\n",
       "       0.00000000e+000, 0.00000000e+000, 0.00000000e+000, 0.00000000e+000,\n",
       "       0.00000000e+000, 0.00000000e+000, 0.00000000e+000, 0.00000000e+000,\n",
       "       0.00000000e+000, 0.00000000e+000, 0.00000000e+000, 0.00000000e+000,\n",
       "       3.26083326e-322, 5.24336441e-231, 4.04009647e-300, 0.00000000e+000,\n",
       "       0.00000000e+000, 0.00000000e+000, 0.00000000e+000, 0.00000000e+000,\n",
       "       0.00000000e+000, 0.00000000e+000, 0.00000000e+000, 0.00000000e+000,\n",
       "       0.00000000e+000, 0.00000000e+000, 0.00000000e+000, 0.00000000e+000,\n",
       "       0.00000000e+000, 0.00000000e+000, 0.00000000e+000, 0.00000000e+000,\n",
       "       0.00000000e+000, 0.00000000e+000, 0.00000000e+000, 0.00000000e+000])"
      ]
     },
     "execution_count": 37,
     "metadata": {},
     "output_type": "execute_result"
    }
   ],
   "source": [
    "pvalues_f"
   ]
  },
  {
   "cell_type": "code",
   "execution_count": 38,
   "metadata": {},
   "outputs": [
    {
     "data": {
      "text/plain": [
       "392"
      ]
     },
     "execution_count": 38,
     "metadata": {},
     "output_type": "execute_result"
    }
   ],
   "source": [
    "k = F.shape[0] - (pvalues_f >0.05).sum()\n",
    "k"
   ]
  },
  {
   "cell_type": "markdown",
   "metadata": {},
   "source": [
    "# 互信息法"
   ]
  },
  {
   "cell_type": "code",
   "execution_count": 42,
   "metadata": {},
   "outputs": [
    {
     "data": {
      "text/plain": [
       "array([0.06926334, 0.08498449, 0.10107742, 0.10843512, 0.11559056,\n",
       "       0.10729196, 0.08323433, 0.06188383, 0.07512422, 0.09286333,\n",
       "       0.11889369, 0.13920229, 0.15114272, 0.16480828, 0.15534551,\n",
       "       0.12947058, 0.0955128 , 0.0639924 , 0.04426148, 0.02757119,\n",
       "       0.06895882, 0.09866222, 0.12587462, 0.15383637, 0.17606847,\n",
       "       0.20761991, 0.22403852, 0.23555274, 0.21572341, 0.17689008,\n",
       "       0.13967753, 0.10102811, 0.07377958, 0.05405815, 0.04661338,\n",
       "       0.03205536, 0.06150959, 0.07694801, 0.10215508, 0.12164342,\n",
       "       0.13464806, 0.14657051, 0.16223317, 0.18540368, 0.1835473 ,\n",
       "       0.16939443, 0.15229394, 0.13706981, 0.11143079, 0.08677804,\n",
       "       0.08029807, 0.06620011, 0.0613027 , 0.04968159, 0.06292992,\n",
       "       0.07631711, 0.08236494, 0.10391558, 0.10813063, 0.10462719,\n",
       "       0.10966656, 0.11462795, 0.1220979 , 0.12421024, 0.1169251 ,\n",
       "       0.11481486, 0.11406134, 0.10549883, 0.09270136, 0.08146641,\n",
       "       0.0688429 , 0.04071848, 0.05575064, 0.07285625, 0.07361583,\n",
       "       0.09387177, 0.12099493, 0.14616796, 0.13795073, 0.12338052,\n",
       "       0.107756  , 0.11401885, 0.1147639 , 0.11211731, 0.12398792,\n",
       "       0.1405983 , 0.12527734, 0.10419063, 0.08306687, 0.0675966 ,\n",
       "       0.04469742, 0.0615198 , 0.06602114, 0.09396281, 0.14130317,\n",
       "       0.17793399, 0.20790617, 0.16140096, 0.10990347, 0.09991457,\n",
       "       0.12710998, 0.11866457, 0.13101458, 0.14373615, 0.15179603,\n",
       "       0.14163655, 0.11948199, 0.08634187, 0.06953229, 0.03799478,\n",
       "       0.048894  , 0.07591294, 0.12529612, 0.17874221, 0.22295142,\n",
       "       0.1874855 , 0.12353142, 0.07817238, 0.11042264, 0.14923109,\n",
       "       0.1174008 , 0.13151047, 0.15632786, 0.15230882, 0.14057688,\n",
       "       0.1297241 , 0.09946645, 0.06975707, 0.03143809, 0.05318729,\n",
       "       0.09754118, 0.15406295, 0.21057493, 0.21599106, 0.17979753,\n",
       "       0.11729788, 0.10547824, 0.17889087, 0.19251509, 0.13062266,\n",
       "       0.14546186, 0.17897452, 0.15715418, 0.13759266, 0.13573835,\n",
       "       0.1171972 , 0.08187233, 0.03562927, 0.06527964, 0.13033069,\n",
       "       0.18969434, 0.22105869, 0.2205007 , 0.19829804, 0.16690028,\n",
       "       0.19136884, 0.25937853, 0.21800364, 0.13580877, 0.17732828,\n",
       "       0.18481934, 0.13638215, 0.12487076, 0.14527651, 0.1342476 ,\n",
       "       0.09955537, 0.04957897, 0.08641082, 0.15395276, 0.21376577,\n",
       "       0.23062294, 0.20869174, 0.20076539, 0.20647601, 0.24542718,\n",
       "       0.2834247 , 0.21354726, 0.17599921, 0.21812945, 0.1789006 ,\n",
       "       0.123245  , 0.1176879 , 0.14758972, 0.14581324, 0.0973836 ,\n",
       "       0.05721678, 0.11394096, 0.17632986, 0.22308662, 0.22253086,\n",
       "       0.19308446, 0.1742938 , 0.17854611, 0.24527402, 0.27988456,\n",
       "       0.20251557, 0.2157063 , 0.24972056, 0.18595425, 0.11949777,\n",
       "       0.13313231, 0.16049685, 0.14646614, 0.0909528 , 0.072863  ,\n",
       "       0.12929981, 0.18812513, 0.22144226, 0.22216779, 0.18755089,\n",
       "       0.17545165, 0.19673525, 0.25300611, 0.2724851 , 0.19810971,\n",
       "       0.23345331, 0.23608339, 0.16116723, 0.13453465, 0.15160076,\n",
       "       0.15742219, 0.13022823, 0.09125655, 0.08330748, 0.14247797,\n",
       "       0.18763569, 0.20636087, 0.19421317, 0.1892959 , 0.18485315,\n",
       "       0.21654617, 0.26879539, 0.24772876, 0.19128022, 0.21406013,\n",
       "       0.18596967, 0.1353287 , 0.1530718 , 0.17525191, 0.15216213,\n",
       "       0.1180136 , 0.07055054, 0.08234894, 0.13364721, 0.18156831,\n",
       "       0.18748494, 0.18852202, 0.18908264, 0.19425002, 0.21347682,\n",
       "       0.24562988, 0.19799002, 0.15516217, 0.15404075, 0.11869913,\n",
       "       0.12531796, 0.17568647, 0.17673055, 0.14382431, 0.10055454,\n",
       "       0.06218736, 0.03861017, 0.09642008, 0.14918803, 0.18580494,\n",
       "       0.1886259 , 0.19590679, 0.21755573, 0.21164424, 0.2012171 ,\n",
       "       0.19650202, 0.14282558, 0.10743183, 0.0965846 , 0.10871   ,\n",
       "       0.1540411 , 0.19158361, 0.17525136, 0.12864225, 0.09157546,\n",
       "       0.05864077, 0.04645709, 0.11199043, 0.1618155 , 0.20136919,\n",
       "       0.21154156, 0.22068969, 0.22785725, 0.20420326, 0.17542033,\n",
       "       0.14270747, 0.09167173, 0.07495198, 0.08501381, 0.13729564,\n",
       "       0.18713092, 0.19102785, 0.15183264, 0.1089099 , 0.08022407,\n",
       "       0.04949966, 0.05491139, 0.10275857, 0.16049695, 0.21832382,\n",
       "       0.24184856, 0.23675041, 0.20976301, 0.17392472, 0.13824281,\n",
       "       0.10871213, 0.07855572, 0.07078008, 0.10253414, 0.1468768 ,\n",
       "       0.16641117, 0.14801181, 0.11241412, 0.0877593 , 0.05961242,\n",
       "       0.09084165, 0.14537511, 0.19790297, 0.23581953, 0.23376223,\n",
       "       0.18890343, 0.13517417, 0.09398154, 0.07724483, 0.0658197 ,\n",
       "       0.08313531, 0.10916032, 0.11960639, 0.11679028, 0.09746322,\n",
       "       0.07707133, 0.06053278, 0.04430861, 0.05952111, 0.10472864,\n",
       "       0.14661417, 0.18936465, 0.19762544, 0.19206937, 0.16179585,\n",
       "       0.13430978, 0.11431189, 0.12097528, 0.10600738, 0.09838592,\n",
       "       0.08578387, 0.06991563, 0.05413058, 0.04461148, 0.03257454,\n",
       "       0.05615991, 0.0803834 , 0.1117667 , 0.13377065, 0.15865101,\n",
       "       0.17145745, 0.18136933, 0.18019475, 0.15129742, 0.12382498,\n",
       "       0.09710258, 0.07175943, 0.04810561, 0.03935936, 0.01858574,\n",
       "       0.02877093, 0.04855957, 0.06158814, 0.08715782, 0.10925472,\n",
       "       0.1300214 , 0.1202323 , 0.10671295, 0.08898522, 0.07314538,\n",
       "       0.0587325 , 0.04351316, 0.0314415 , 0.05869247, 0.08663218,\n",
       "       0.10702059, 0.1176841 , 0.11114813, 0.0982615 , 0.0879212 ,\n",
       "       0.0741817 , 0.05715333])"
      ]
     },
     "execution_count": 42,
     "metadata": {},
     "output_type": "execute_result"
    }
   ],
   "source": [
    "from sklearn.feature_selection import mutual_info_classif as MIC\n",
    "result = MIC(x_fsvar,y)\n",
    "result\n",
    "\n"
   ]
  },
  {
   "cell_type": "code",
   "execution_count": 43,
   "metadata": {},
   "outputs": [],
   "source": [
    "k =  result.shape[0] - sum(result <= 0)"
   ]
  },
  {
   "cell_type": "code",
   "execution_count": null,
   "metadata": {},
   "outputs": [],
   "source": []
  }
 ],
 "metadata": {
  "kernelspec": {
   "display_name": "Python 3",
   "language": "python",
   "name": "python3"
  },
  "language_info": {
   "codemirror_mode": {
    "name": "ipython",
    "version": 3
   },
   "file_extension": ".py",
   "mimetype": "text/x-python",
   "name": "python",
   "nbconvert_exporter": "python",
   "pygments_lexer": "ipython3",
   "version": "3.7.1"
  }
 },
 "nbformat": 4,
 "nbformat_minor": 2
}
